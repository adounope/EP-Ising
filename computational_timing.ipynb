{
 "cells": [
  {
   "cell_type": "code",
   "execution_count": 1,
   "metadata": {},
   "outputs": [],
   "source": [
    "import openjij.cxxjij as oj\n",
    "import numpy as np\n",
    "from tqdm import tqdm\n",
    "import matplotlib.pyplot as plt\n",
    "import src.utils as utils\n",
    "from datetime import datetime\n",
    "%load_ext autoreload\n",
    "%autoreload 2\n",
    "#%matplotlib ipympl"
   ]
  },
  {
   "cell_type": "code",
   "execution_count": 2,
   "metadata": {},
   "outputs": [
    {
     "name": "stdout",
     "output_type": "stream",
     "text": [
      "[[ 0.          0.          0.         ...  1.40502013  0.42772308\n",
      "   0.        ]\n",
      " [ 0.          0.          0.         ...  1.60704804  0.23295011\n",
      "   0.        ]\n",
      " [ 0.          0.          0.         ... -0.37224261  2.40318362\n",
      "   0.        ]\n",
      " ...\n",
      " [ 1.40502013  1.60704804 -0.37224261 ...  0.          0.\n",
      "   0.        ]\n",
      " [ 0.42772308  0.23295011  2.40318362 ...  0.          0.\n",
      "   0.        ]\n",
      " [ 0.          0.          0.         ...  0.          0.\n",
      "   1.        ]]\n"
     ]
    }
   ],
   "source": [
    "N = 104\n",
    "np_J = np.random.randn(N, N)\n",
    "hidden_size = 64\n",
    "output_size = 40\n",
    "np_J[:hidden_size, :hidden_size] = 0   # hidden never directly connect with other hidden\n",
    "np_J[-output_size:, -output_size:] = 0 # output never directly connect with other output\n",
    "#np_J = np.ones((N, N)) * -1\n",
    "np.fill_diagonal(np_J, 0)\n",
    "np_H = np.ones(N) * 0\n",
    "\n",
    "J = utils.convert_to_jijDense(np_J, np_H)\n",
    "print(J.get_interactions())"
   ]
  },
  {
   "cell_type": "code",
   "execution_count": 3,
   "metadata": {},
   "outputs": [
    {
     "data": {
      "text/plain": [
       "104"
      ]
     },
     "execution_count": 3,
     "metadata": {},
     "output_type": "execute_result"
    }
   ],
   "source": [
    "len(J.gen_spin())"
   ]
  },
  {
   "cell_type": "code",
   "execution_count": 14,
   "metadata": {},
   "outputs": [
    {
     "name": "stdout",
     "output_type": "stream",
     "text": [
      "61.29537375\n",
      "11.471910764899231\n"
     ]
    }
   ],
   "source": [
    "mysystem = oj.system.make_classical_ising(J.gen_spin(), J)\n",
    "#cache = np.array(oj.result.get_solution(mysystem))\n",
    "#print(cache)\n",
    "#Take a longer schedule (total of 20000 Monte Carlo steps)\n",
    "energies = []\n",
    "def callback_log_energy(system, beta):\n",
    "    #graph is the object defined previously in the Graph module\n",
    "    energies.append(J.calc_energy(system.spin))\n",
    "#schedule_list = U.make_classical_schedule_list(0.1, 50, 200, 1000)\n",
    "num_temp_steps = 2**4\n",
    "walk_per_temp = 2**0\n",
    "\n",
    "schedule_list = oj.utility.make_classical_schedule_list(2**-6, 2**10, walk_per_temp, num_temp_steps) # inverse temp increase from  0.1 to 50 (T=10 -> 0.02)\n",
    "\n",
    "N_test = 4000000\n",
    "durations = np.zeros(N_test)\n",
    "for i in range(N_test):\n",
    "    start = datetime.now()\n",
    "    oj.algorithm.Algorithm_SingleSpinFlip_run(mysystem, schedule_list)#, callback_log_energy)\n",
    "    end = datetime.now()\n",
    "    durations[i] = (end - start).microseconds\n",
    "print(durations.mean())\n",
    "print(durations.std())\n",
    "\n",
    "# E = np.array(energies)\n",
    "# print(np.min(E))\n",
    "# schedule_list = oj.utility.make_classical_schedule_list(2**-6, 2**100, walk_per_temp, num_temp_steps2) # inverse temp increase from  0.1 to 50 (T=10 -> 0.02)\n",
    "# oj.algorithm.Algorithm_SingleSpinFlip_run(mysystem, schedule_list, callback_log_energy)\n",
    "# E = np.array(energies)\n",
    "# print(np.min(E))"
   ]
  },
  {
   "cell_type": "code",
   "execution_count": 15,
   "metadata": {},
   "outputs": [
    {
     "name": "stdout",
     "output_type": "stream",
     "text": [
      "8151.0\n",
      "55.0\n"
     ]
    }
   ],
   "source": [
    "print(durations.max())\n",
    "print(durations.min())"
   ]
  },
  {
   "cell_type": "code",
   "execution_count": 16,
   "metadata": {},
   "outputs": [
    {
     "data": {
      "text/plain": [
       "245.18149499999984"
      ]
     },
     "execution_count": 16,
     "metadata": {},
     "output_type": "execute_result"
    }
   ],
   "source": [
    "(durations/10**6).sum()"
   ]
  },
  {
   "cell_type": "code",
   "execution_count": 17,
   "metadata": {},
   "outputs": [
    {
     "name": "stdout",
     "output_type": "stream",
     "text": [
      "61.29537375\n",
      "0.01147191076489923\n"
     ]
    }
   ],
   "source": [
    "print(durations.mean())\n",
    "print(2 * durations.std() / np.sqrt(N_test))"
   ]
  },
  {
   "cell_type": "code",
   "execution_count": null,
   "metadata": {},
   "outputs": [],
   "source": [
    "0.0001060\n",
    "0.002"
   ]
  },
  {
   "cell_type": "code",
   "execution_count": 7,
   "metadata": {},
   "outputs": [
    {
     "data": {
      "text/plain": [
       "8.646392822265625e-05"
      ]
     },
     "execution_count": 7,
     "metadata": {},
     "output_type": "execute_result"
    }
   ],
   "source": [
    "11.333 / 2**(22-5)"
   ]
  },
  {
   "cell_type": "code",
   "execution_count": 16,
   "metadata": {},
   "outputs": [
    {
     "name": "stdout",
     "output_type": "stream",
     "text": [
      "104\n"
     ]
    },
    {
     "data": {
      "image/png": "[encoded data removed]",
      "text/plain": [
       "<Figure size 640x480 with 1 Axes>"
      ]
     },
     "metadata": {},
     "output_type": "display_data"
    }
   ],
   "source": [
    "plt.plot(range(len(energies)), energies)\n",
    "plt.xlabel('Monte Carlo step')\n",
    "plt.ylabel('energy')\n",
    "\n",
    "lattice_after = np.array(oj.result.get_solution(mysystem))\n",
    "print(len(lattice_after))\n",
    "#print(cache)\n",
    "#print(lattice_after)\n",
    "#E = np.array(energies)\n",
    "#print(np.min(E))\n",
    "plt.show()"
   ]
  },
  {
   "cell_type": "code",
   "execution_count": null,
   "metadata": {},
   "outputs": [],
   "source": []
  }
 ],
 "metadata": {
  "kernelspec": {
   "display_name": "fyp",
   "language": "python",
   "name": "python3"
  },
  "language_info": {
   "codemirror_mode": {
    "name": "ipython",
    "version": 3
   },
   "file_extension": ".py",
   "mimetype": "text/x-python",
   "name": "python",
   "nbconvert_exporter": "python",
   "pygments_lexer": "ipython3",
   "version": "3.9.21"
  }
 },
 "nbformat": 4,
 "nbformat_minor": 4
}
