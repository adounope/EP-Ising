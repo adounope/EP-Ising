{
 "cells": [
  {
   "cell_type": "code",
   "execution_count": null,
   "metadata": {},
   "outputs": [],
   "source": [
    "import numpy as np\n",
    "from datetime import datetime\n",
    "import os\n",
    "import src.Normal_model as Normal_model\n",
    "from tqdm import tqdm\n",
    "import src.utils as utils\n",
    "import matplotlib.pyplot as plt\n",
    "import torch\n",
    "np.random.seed(80805)\n",
    "x_train, y_train, _, x_val, y_val, y_val_idx = utils.load_data('./data/MNIST_1000')\n",
    "print(x_train.shape)\n",
    "print(x_val.shape)\n",
    "#print(x_train.dtype)\n",
    "\n",
    "repeat = 1\n",
    "\n",
    "x_train = np.tile(x_train.reshape(len(x_train), -1), repeat)\n",
    "x_val = np.tile(x_val.reshape(len(x_val), -1), repeat)\n",
    "\n",
    "########################################################################3\n",
    "N_epoch = 100\n",
    "input_size = i_s = 40\n",
    "hidden_size = h_s = 64\n",
    "output_size = o_s = 196 * repeat\n",
    "N_spins = input_size + hidden_size + output_size\n",
    "\n",
    "\n",
    "\n",
    "\n",
    "normal_model = Normal_model.Normal_model(input_size, hidden_size, output_size, lr = 1/128)\n",
    "###########################################################################\n",
    "\n",
    "time_string = datetime.now().isoformat(timespec='minutes')\n",
    "folder_name = f'./results/GradientDescent_rev_{time_string}_MNIST_1000'\n",
    "os.system(f'mkdir {folder_name}')\n",
    "os.system(f'mkdir {folder_name}/weights')\n",
    "os.system(f'touch {folder_name}/train_log.txt')\n",
    "utils.save_obj(f'{folder_name}/normal_model.pkl', normal_model) # pickle cannot save openjij schedule object\n",
    "\n",
    "# ep_model.create_schedule()\n",
    "# with open(f'{folder_name}/train_log.txt', 'a') as f:\n",
    "#     f.write(f'beta={ep_model.beta}\\tlr=1/{1/ep_model.lr}\\tbatch_size = {ep_model.max_process}\\tnum_walk = 2**({np.log2(ep_model.N_neal_temps)} + {np.log2(ep_model.N_neal_steps)})\\trev_neal_temp = {ep_model.rev_neal_start_temp:.1f}\\n')\n",
    "\n",
    "train_batch_idx = utils.batch_idx(N=len(x_train), batch_size=4)\n",
    "val_batch_idx = utils.batch_idx(N=len(x_val), batch_size=4)\n",
    "\n",
    "\n",
    "best_reconstruction_loss = 1\n",
    "reconstruction_loss_history = []\n",
    "for epoch in range(N_epoch):\n",
    "    N_train_correct = N_val_correct = 0\n",
    "    reconstruction_loss = 0\n",
    "    for s, e in tqdm(train_batch_idx, desc=f'epoch {epoch}'): #start and end index of minibatch\n",
    "        _, rec_loss = normal_model.train(torch.tensor(y_train[s:e]).float(), torch.tensor(x_train[s:e]).float())\n",
    "        #print(loss)\n",
    "        #N_train_correct += (pred == ep_model.label_to_num(y_train[s:e])).sum()\n",
    "        reconstruction_loss += rec_loss\n",
    "    train_acc = N_train_correct / len(x_train)\n",
    "    reconstruction_loss /= len(x_train)\n",
    "    # for s, e in val_batch_idx:\n",
    "    #     pred = normal_model.forward(torch.tensor(x_val[s:e]).float())\n",
    "    #     #print((pred>0)*2-1)\n",
    "    #     tmp = normal_model.label_to_num(np.array( (pred>0)*2-1))\n",
    "    #     N_val_correct += (y_val_idx[s:e] == normal_model.label_to_num(np.array( (pred>0)*2-1) )).sum()\n",
    "    #     print('////////////////')\n",
    "    #     print(y_val_idx[s:e])\n",
    "    #     print(tmp)\n",
    "    #val_acc = N_val_correct / len(x_val)\n",
    "    reconstruction_loss_history.append([reconstruction_loss])\n",
    "\n",
    "    print(f'\\treconstruction_loss: {reconstruction_loss*100}%')\n",
    "\n",
    "    #acc_history.append([train_acc, val_acc])\n",
    "    current_best = False\n",
    "    # if val_acc > best_val_acc:\n",
    "    #     best_val_acc = val_acc\n",
    "    #     np.save(f'{folder_name}/weights/{epoch}_J', ep_model.J)\n",
    "    #     np.save(f'{folder_name}/weights/{epoch}_H', ep_model.H)\n",
    "    #     current_best = True\n",
    "    # if reconstruction_loss < best_reconstruction_loss:\n",
    "        # best_reconstruction_loss = reconstruction_loss\n",
    "        # np.save(f'{folder_name}/weights/{epoch}_J', ep_model.J)\n",
    "        # np.save(f'{folder_name}/weights/{epoch}_H', ep_model.H)\n",
    "    with open(f'{folder_name}/train_log.txt', 'a') as f:\n",
    "        s = datetime.now().isoformat(timespec='seconds')\n",
    "        f.write(f'{s}\\n')\n",
    "        f.write(f'\\tepoch: {epoch}\\treconstruction_loss: {reconstruction_loss*100}%')\n",
    "        if current_best:\n",
    "            f.write('\\tcurrent_best\\n')\n",
    "        else:\n",
    "            f.write('\\n')\n",
    "\n",
    "reconstruction_loss_history = np.array(reconstruction_loss_history)\n",
    "np.save(f'{folder_name}/acc_history', reconstruction_loss_history)\n",
    "plt.plot(np.arange(len(reconstruction_loss_history)), reconstruction_loss_history*100)\n",
    "plt.legend()\n",
    "plt.ylabel('reconstruction difference %')\n",
    "plt.xlabel('epoch')\n",
    "plt.title('reconstruction difference')\n",
    "plt.ylim(0, 100)\n",
    "plt.savefig(f'{folder_name}/reconstruction_difference.png')"
   ]
  },
  {
   "cell_type": "code",
   "execution_count": 2,
   "metadata": {},
   "outputs": [],
   "source": [
    "%load_ext autoreload\n",
    "%autoreload 2"
   ]
  },
  {
   "cell_type": "code",
   "execution_count": 11,
   "metadata": {},
   "outputs": [
    {
     "name": "stdout",
     "output_type": "stream",
     "text": [
      "[3]\n"
     ]
    },
    {
     "data": {
      "text/plain": [
       "<matplotlib.image.AxesImage at 0x7fcc091495e0>"
      ]
     },
     "execution_count": 11,
     "metadata": {},
     "output_type": "execute_result"
    },
    {
     "data": {
      "image/png": "[encoded data removed]",
      "text/plain": [
       "<Figure size 640x480 with 1 Axes>"
      ]
     },
     "metadata": {},
     "output_type": "display_data"
    }
   ],
   "source": [
    "class_label = 3\n",
    "\n",
    "output_layer_spins = np.ones(40).reshape(10, 4) * -1\n",
    "output_layer_spins[class_label, :] = 1\n",
    "\n",
    "print(normal_model.label_to_num(output_layer_spins.reshape(1, 40)))\n",
    "\n",
    "plt.cla()\n",
    "with torch.no_grad():\n",
    "    result = np.array(normal_model.forward(torch.tensor(output_layer_spins.reshape(1, 40)).float()))\n",
    "    result = result.flatten()\n",
    "\n",
    "plt.imshow((result.reshape(14, 14) > 0)*2)"
   ]
  },
  {
   "cell_type": "code",
   "execution_count": null,
   "metadata": {},
   "outputs": [],
   "source": []
  }
 ],
 "metadata": {
  "kernelspec": {
   "display_name": "fyp",
   "language": "python",
   "name": "python3"
  },
  "language_info": {
   "codemirror_mode": {
    "name": "ipython",
    "version": 3
   },
   "file_extension": ".py",
   "mimetype": "text/x-python",
   "name": "python",
   "nbconvert_exporter": "python",
   "pygments_lexer": "ipython3",
   "version": "3.10.12"
  }
 },
 "nbformat": 4,
 "nbformat_minor": 2
}
