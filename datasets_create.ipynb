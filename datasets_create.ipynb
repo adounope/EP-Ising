{
 "cells": [
  {
   "cell_type": "code",
   "execution_count": 1,
   "metadata": {},
   "outputs": [],
   "source": [
    "from torchvision import datasets\n",
    "import torch.nn as nn\n",
    "import numpy as np\n",
    "import os\n",
    "import torch"
   ]
  },
  {
   "cell_type": "code",
   "execution_count": 2,
   "metadata": {},
   "outputs": [],
   "source": [
    "dataset = datasets.MNIST(root='./data', download=True)\n",
    "x = dataset.data\n",
    "y = dataset.targets"
   ]
  },
  {
   "cell_type": "code",
   "execution_count": 6,
   "metadata": {},
   "outputs": [
    {
     "name": "stdout",
     "output_type": "stream",
     "text": [
      "(60000, 14, 14)\n",
      "(60000, 40)\n",
      "[ 987 1140  955 1002  977  892 1034 1050 1001  962]\n",
      "[ 94 114  96  91  85 101 103 112  90 114]\n"
     ]
    }
   ],
   "source": [
    "x_train = nn.MaxPool2d(kernel_size=2, stride=2)(x).numpy()\n",
    "y_train = nn.functional.one_hot(y, num_classes=10).numpy()\n",
    "x_train = ((x_train > 127)*2-1).astype(np.int8)\n",
    "y_train = (np.repeat(y_train, 4, axis=1)*2-1).astype(np.int8)\n",
    "\n",
    "y_idx = y.numpy()\n",
    "\n",
    "print(x_train.shape)\n",
    "print(y_train.shape)\n",
    "\n",
    "# shuffle\n",
    "np.random.seed(80805)\n",
    "shuffle_idx = np.arange(len(x))\n",
    "np.random.shuffle(shuffle_idx)\n",
    "\n",
    "x_train = x_train[shuffle_idx]\n",
    "y_train = y_train[shuffle_idx]\n",
    "y_idx = y_idx[shuffle_idx]\n",
    "\n",
    "x_val = x_train[1000:1200]\n",
    "y_val = y_train[1000:1200]\n",
    "y_val_idx = y_idx[1000:1200]\n",
    "\n",
    "x_train = x_train[:1000]\n",
    "y_train = y_train[:1000]\n",
    "y_train_idx = y_idx[:1000]\n",
    "\n",
    "print((np.arange(10)[:, None] == y_train_idx).sum(axis=1))\n",
    "print((np.arange(10)[:, None] == y_val_idx).sum(axis=1))"
   ]
  },
  {
   "cell_type": "code",
   "execution_count": 8,
   "metadata": {},
   "outputs": [
    {
     "name": "stdout",
     "output_type": "stream",
     "text": [
      "(10000, 14, 14)\n",
      "(1000, 14, 14)\n",
      "(1000, 40)\n"
     ]
    }
   ],
   "source": [
    "print(x_train.shape)\n",
    "print(x_val.shape)\n",
    "print(y_val.shape)"
   ]
  },
  {
   "cell_type": "code",
   "execution_count": 9,
   "metadata": {},
   "outputs": [],
   "source": [
    "folder_name = './data/MNIST_1000'\n",
    "np.save(f'{folder_name}/x_train', x_train)\n",
    "np.save(f'{folder_name}/y_train', y_train)\n",
    "np.save(f'{folder_name}/y_train_idx', y_train_idx)\n",
    "\n",
    "np.save(f'{folder_name}/x_val', x_val)\n",
    "np.save(f'{folder_name}/y_val', y_val)\n",
    "np.save(f'{folder_name}/y_val_idx', y_val_idx)"
   ]
  }
 ],
 "metadata": {
  "kernelspec": {
   "display_name": "fyp",
   "language": "python",
   "name": "python3"
  },
  "language_info": {
   "codemirror_mode": {
    "name": "ipython",
    "version": 3
   },
   "file_extension": ".py",
   "mimetype": "text/x-python",
   "name": "python",
   "nbconvert_exporter": "python",
   "pygments_lexer": "ipython3",
   "version": "3.10.12"
  }
 },
 "nbformat": 4,
 "nbformat_minor": 2
}
